{
 "cells": [
  {
   "cell_type": "code",
   "execution_count": 1,
   "id": "cbd198e4",
   "metadata": {},
   "outputs": [],
   "source": [
    "from kafka import KafkaProducer\n",
    "import json\n",
    "from time import sleep\n",
    "import requests"
   ]
  },
  {
   "cell_type": "code",
   "execution_count": 2,
   "id": "33c20385",
   "metadata": {},
   "outputs": [],
   "source": [
    "producer = KafkaProducer(bootstrap_servers=['localhost:9092'], api_version=(0,11,5),\n",
    "                         value_serializer=lambda x: json.dumps(x).encode('utf-8'))"
   ]
  },
  {
   "cell_type": "code",
   "execution_count": 3,
   "id": "00b9b634",
   "metadata": {},
   "outputs": [
    {
     "name": "stdout",
     "output_type": "stream",
     "text": [
      "[{\"id\":\"90\",\"symbol\":\"BTC\",\"name\":\"Bitcoin\",\"nameid\":\"bitcoin\",\"rank\":1,\"price_usd\":\"16835.59\",\"percent_change_24h\":\"0.13\",\"percent_change_1h\":\"-0.14\",\"percent_change_7d\":\"-5.33\",\"market_cap_usd\":\"323613897502.16\",\"volume24\":\"21197389474.66\",\"volume24_native\":\"1259082.32\",\"csupply\":\"19222015.00\",\"price_btc\":\"1.00\",\"tsupply\":\"19222015\",\"msupply\":\"21000000\"}]\n",
      "[{\"id\":\"80\",\"symbol\":\"ETH\",\"name\":\"Ethereum\",\"nameid\":\"ethereum\",\"rank\":2,\"price_usd\":\"1213.51\",\"percent_change_24h\":\"0.09\",\"percent_change_1h\":\"-0.07\",\"percent_change_7d\":\"-8.11\",\"market_cap_usd\":\"148503878776.62\",\"volume24\":\"5640705491.10\",\"volume24_native\":\"4648249.22\",\"csupply\":\"122375302.00\",\"price_btc\":\"0.072135\",\"tsupply\":\"122375302\",\"msupply\":\"\"}]\n",
      "[{\"id\":\"518\",\"symbol\":\"USDT\",\"name\":\"Tether\",\"nameid\":\"tether\",\"rank\":3,\"price_usd\":\"0.999800\",\"percent_change_24h\":\"-0.01\",\"percent_change_1h\":\"-0.10\",\"percent_change_7d\":\"0.26\",\"market_cap_usd\":\"67024579022.03\",\"volume24\":\"26169467001.77\",\"volume24_native\":\"26174692596.70\",\"csupply\":\"67037962684.00\",\"price_btc\":\"0.000059\",\"tsupply\":\"69158976373.909\",\"msupply\":\"\"}]\n",
      "[{\"id\":\"33285\",\"symbol\":\"USDC\",\"name\":\"USD Coin\",\"nameid\":\"usd-coin\",\"rank\":4,\"price_usd\":\"0.999905\",\"percent_change_24h\":\"0.00\",\"percent_change_1h\":\"0.00\",\"percent_change_7d\":\"0.02\",\"market_cap_usd\":\"53799383348.18\",\"volume24\":\"632697247.57\",\"volume24_native\":\"632757146.19\",\"csupply\":\"53804476636.00\",\"price_btc\":\"0.000059\",\"tsupply\":\"53804476636.564\",\"msupply\":\"\"}]\n",
      "[{\"id\":\"2710\",\"symbol\":\"BNB\",\"name\":\"Binance Coin\",\"nameid\":\"binance-coin\",\"rank\":5,\"price_usd\":\"248.76\",\"percent_change_24h\":\"-0.09\",\"percent_change_1h\":\"-0.04\",\"percent_change_7d\":\"-8.69\",\"market_cap_usd\":\"41493551125.05\",\"volume24\":\"325489368.56\",\"volume24_native\":\"1308444.30\",\"csupply\":\"166801148.00\",\"price_btc\":\"0.014784\",\"tsupply\":\"192443301\",\"msupply\":\"200000000\"}]\n"
     ]
    }
   ],
   "source": [
    "url = \"https://coinlore-cryptocurrency.p.rapidapi.com/api/ticker/\"\n",
    "\n",
    "headers = {\n",
    "\t\"X-RapidAPI-Key\": \"9e01671e6fmsh9aa78ef5cb251a1p15c298jsncd5fcf7ece93\",\n",
    "\t\"X-RapidAPI-Host\": \"coinlore-cryptocurrency.p.rapidapi.com\"\n",
    "}\n",
    "\n",
    "querystring = [{\"id\":\"90\"},{\"id\":\"80\"},{\"id\":\"518\"},{\"id\":\"33285\"},{\"id\":\"2710\"}]\n",
    "\n",
    "for e in range(1):\n",
    "    for x in querystring:\n",
    "\n",
    "        response = requests.request(\"GET\", url, headers=headers, params=x)\n",
    "        producer.send('CoinLore', value=response.text) \n",
    "        #del response\n",
    "        print(response.text)\n",
    "    #sleep(10)"
   ]
  },
  {
   "cell_type": "code",
   "execution_count": null,
   "id": "6c25a529",
   "metadata": {},
   "outputs": [],
   "source": []
  },
  {
   "cell_type": "code",
   "execution_count": null,
   "id": "a6ec85aa",
   "metadata": {},
   "outputs": [],
   "source": []
  }
 ],
 "metadata": {
  "kernelspec": {
   "display_name": "Python 3 (ipykernel)",
   "language": "python",
   "name": "python3"
  },
  "language_info": {
   "codemirror_mode": {
    "name": "ipython",
    "version": 3
   },
   "file_extension": ".py",
   "mimetype": "text/x-python",
   "name": "python",
   "nbconvert_exporter": "python",
   "pygments_lexer": "ipython3",
   "version": "3.10.6"
  }
 },
 "nbformat": 4,
 "nbformat_minor": 5
}
